{
  "cells": [
    {
      "cell_type": "markdown",
      "source": [
        "# Tutorial of Reinforcement Learning (DQN/MountainCar)"
      ],
      "metadata": {
        "id": "xFA3j06oUHVl"
      }
    },
    {
      "cell_type": "markdown",
      "source": [
        "Please get in touch if interested in our future collaboration of science and/or business!\\\n",
        "Daiphys Technologies LLC - https://www.daiphys.com/"
      ],
      "metadata": {
        "id": "wNjhHIT5XWqr"
      }
    },
    {
      "cell_type": "markdown",
      "source": [
        "## 0. References"
      ],
      "metadata": {
        "id": "JmRTsnWIVrIq"
      }
    },
    {
      "cell_type": "markdown",
      "source": [
        "- https://pytorch.org/tutorials/intermediate/reinforcement_q_learning.html\n",
        "- https://sebarnold.net/tutorials/intermediate/reinforcement_q_learning.html\n",
        "- https://www.gymlibrary.dev/\n",
        "- https://www.gymlibrary.dev/environments/classic_control/mountain_car/\n",
        "- https://github.com/openai/gym/wiki/MountainCar-v0\n",
        "- https://unproductive.dev/rl-implementation-dqn/\n",
        "- https://take-tech-engineer.com/dqn-atari-breakout-pytorch/\n",
        "- https://github.com/bentrevett/pytorch-rl\n",
        "- https://qiita.com/payanotty/items/07fb38a44cc3bd13e4dd\n",
        "- https://www.kaggle.com/code/fabriciotorquato/mountaincar-dqn\n",
        "- https://blog.tanka.la/2018/10/19/solving-curious-case-of-mountaincar-reward-problem-using-openai-gym-keras-tensorflow-in-python/"
      ],
      "metadata": {
        "id": "GavwPd71VxbP"
      }
    },
    {
      "cell_type": "markdown",
      "source": [
        "## 1. Preparation"
      ],
      "metadata": {
        "id": "ApanDCxUg4qk"
      }
    },
    {
      "cell_type": "markdown",
      "source": [
        "### 1.1. Install"
      ],
      "metadata": {
        "id": "AvpQlPmXiYqT"
      }
    },
    {
      "cell_type": "code",
      "source": [
        "## Python\n",
        "!python --version"
      ],
      "metadata": {
        "colab": {
          "base_uri": "https://localhost:8080/"
        },
        "id": "ta9Ijc5urEvz",
        "outputId": "86e610ab-e5c6-4e06-90ea-e49d6412a49c"
      },
      "execution_count": 1,
      "outputs": [
        {
          "output_type": "stream",
          "name": "stdout",
          "text": [
            "Python 3.10.12\n"
          ]
        }
      ]
    },
    {
      "cell_type": "code",
      "source": [
        "## PyTorch\n",
        "!python -c 'import torch; print(torch.__version__)'"
      ],
      "metadata": {
        "colab": {
          "base_uri": "https://localhost:8080/"
        },
        "id": "EEuPg5mxrLR1",
        "outputId": "8fab70c3-cc10-45ad-ce42-71eb5cc8ccdd"
      },
      "execution_count": 2,
      "outputs": [
        {
          "output_type": "stream",
          "name": "stdout",
          "text": [
            "2.2.1+cu121\n"
          ]
        }
      ]
    },
    {
      "cell_type": "code",
      "source": [
        "## CUDA\n",
        "!nvcc --version"
      ],
      "metadata": {
        "colab": {
          "base_uri": "https://localhost:8080/"
        },
        "id": "9j20ptgArNA-",
        "outputId": "ca29dd8f-3630-44ef-88e0-5cdd5397a738"
      },
      "execution_count": 3,
      "outputs": [
        {
          "output_type": "stream",
          "name": "stdout",
          "text": [
            "nvcc: NVIDIA (R) Cuda compiler driver\n",
            "Copyright (c) 2005-2023 NVIDIA Corporation\n",
            "Built on Tue_Aug_15_22:02:13_PDT_2023\n",
            "Cuda compilation tools, release 12.2, V12.2.140\n",
            "Build cuda_12.2.r12.2/compiler.33191640_0\n"
          ]
        }
      ]
    },
    {
      "cell_type": "code",
      "source": [
        "!nvidia-smi"
      ],
      "metadata": {
        "colab": {
          "base_uri": "https://localhost:8080/"
        },
        "id": "HI6dO4nXrOGY",
        "outputId": "ab12995d-1e4e-4ea3-ae4e-750b0917300f"
      },
      "execution_count": 4,
      "outputs": [
        {
          "output_type": "stream",
          "name": "stdout",
          "text": [
            "/bin/bash: line 1: nvidia-smi: command not found\n"
          ]
        }
      ]
    },
    {
      "cell_type": "code",
      "source": [
        "!apt-get update"
      ],
      "metadata": {
        "colab": {
          "base_uri": "https://localhost:8080/"
        },
        "id": "yjmGBBHUrPdw",
        "outputId": "e51fe0ee-ba4f-4460-98cb-5b7e4bcc8de5"
      },
      "execution_count": 5,
      "outputs": [
        {
          "output_type": "stream",
          "name": "stdout",
          "text": [
            "Get:1 https://cloud.r-project.org/bin/linux/ubuntu jammy-cran40/ InRelease [3,626 B]\n",
            "Hit:2 http://archive.ubuntu.com/ubuntu jammy InRelease\n",
            "Get:3 http://security.ubuntu.com/ubuntu jammy-security InRelease [110 kB]\n",
            "Get:4 https://developer.download.nvidia.com/compute/cuda/repos/ubuntu2204/x86_64  InRelease [1,581 B]\n",
            "Get:5 http://archive.ubuntu.com/ubuntu jammy-updates InRelease [119 kB]\n",
            "Get:6 http://archive.ubuntu.com/ubuntu jammy-backports InRelease [109 kB]\n",
            "Hit:7 https://ppa.launchpadcontent.net/c2d4u.team/c2d4u4.0+/ubuntu jammy InRelease\n",
            "Hit:8 https://ppa.launchpadcontent.net/deadsnakes/ppa/ubuntu jammy InRelease\n",
            "Hit:9 https://ppa.launchpadcontent.net/graphics-drivers/ppa/ubuntu jammy InRelease\n",
            "Hit:10 https://ppa.launchpadcontent.net/ubuntugis/ppa/ubuntu jammy InRelease\n",
            "Get:11 https://developer.download.nvidia.com/compute/cuda/repos/ubuntu2204/x86_64  Packages [737 kB]\n",
            "Get:12 http://security.ubuntu.com/ubuntu jammy-security/main amd64 Packages [1,569 kB]\n",
            "Get:13 http://archive.ubuntu.com/ubuntu jammy-updates/main amd64 Packages [1,848 kB]\n",
            "Get:14 http://security.ubuntu.com/ubuntu jammy-security/restricted amd64 Packages [1,961 kB]\n",
            "Get:15 http://archive.ubuntu.com/ubuntu jammy-updates/restricted amd64 Packages [1,998 kB]\n",
            "Get:16 http://archive.ubuntu.com/ubuntu jammy-updates/universe amd64 Packages [1,354 kB]\n",
            "Fetched 9,809 kB in 6s (1,776 kB/s)\n",
            "Reading package lists... Done\n"
          ]
        }
      ]
    },
    {
      "cell_type": "code",
      "source": [
        "!pip install --upgrade gymnasium[classic-control]"
      ],
      "metadata": {
        "colab": {
          "base_uri": "https://localhost:8080/"
        },
        "id": "riZdl4BprSCV",
        "outputId": "7b4f3b6f-a6fe-42b5-c65f-5cb4136918dd"
      },
      "execution_count": 6,
      "outputs": [
        {
          "output_type": "stream",
          "name": "stdout",
          "text": [
            "Collecting gymnasium[classic-control]\n",
            "  Downloading gymnasium-0.29.1-py3-none-any.whl (953 kB)\n",
            "\u001b[2K     \u001b[90m━━━━━━━━━━━━━━━━━━━━━━━━━━━━━━━━━━━━━━━━\u001b[0m \u001b[32m953.9/953.9 kB\u001b[0m \u001b[31m5.5 MB/s\u001b[0m eta \u001b[36m0:00:00\u001b[0m\n",
            "\u001b[?25hRequirement already satisfied: numpy>=1.21.0 in /usr/local/lib/python3.10/dist-packages (from gymnasium[classic-control]) (1.25.2)\n",
            "Requirement already satisfied: cloudpickle>=1.2.0 in /usr/local/lib/python3.10/dist-packages (from gymnasium[classic-control]) (2.2.1)\n",
            "Requirement already satisfied: typing-extensions>=4.3.0 in /usr/local/lib/python3.10/dist-packages (from gymnasium[classic-control]) (4.10.0)\n",
            "Collecting farama-notifications>=0.0.1 (from gymnasium[classic-control])\n",
            "  Downloading Farama_Notifications-0.0.4-py3-none-any.whl (2.5 kB)\n",
            "Requirement already satisfied: pygame>=2.1.3 in /usr/local/lib/python3.10/dist-packages (from gymnasium[classic-control]) (2.5.2)\n",
            "Installing collected packages: farama-notifications, gymnasium\n",
            "Successfully installed farama-notifications-0.0.4 gymnasium-0.29.1\n"
          ]
        }
      ]
    },
    {
      "cell_type": "code",
      "source": [
        "## Gymnasium 0.20.0+\n",
        "!python -c 'import gymnasium; print(gymnasium.__version__)'"
      ],
      "metadata": {
        "colab": {
          "base_uri": "https://localhost:8080/"
        },
        "id": "lefKv5WBraJ6",
        "outputId": "dc0385f2-ce7e-451e-fbf9-a06fca95fe78"
      },
      "execution_count": 7,
      "outputs": [
        {
          "output_type": "stream",
          "name": "stdout",
          "text": [
            "0.29.1\n"
          ]
        }
      ]
    },
    {
      "cell_type": "code",
      "source": [
        "## X11 Virtual Framebuffer\n",
        "#!apt-get install -y xvfb\n",
        "#!apt-get install -y python-opengl\n",
        "#!apt-get install -y ffmpeg\n",
        "#!pip install pyvirtualdisplay"
      ],
      "metadata": {
        "id": "HDmC9ts-sQDz"
      },
      "execution_count": 8,
      "outputs": []
    },
    {
      "cell_type": "markdown",
      "source": [
        "### 1.2. Import"
      ],
      "metadata": {
        "id": "D5li2cg-tY_D"
      }
    },
    {
      "cell_type": "code",
      "source": [
        "#!pip list\n",
        "#!pip freeze > requirements.txt"
      ],
      "metadata": {
        "id": "qOGO8NVlsQGw"
      },
      "execution_count": 9,
      "outputs": []
    },
    {
      "cell_type": "code",
      "source": [
        "import os\n",
        "import sys\n",
        "import numpy as np\n",
        "import scipy as sp\n",
        "import pandas as pd\n",
        "import cv2\n",
        "import matplotlib\n",
        "import matplotlib.pyplot as plt\n",
        "import matplotlib.animation\n",
        "import pickle\n",
        "import re\n",
        "import csv\n",
        "import math\n",
        "import random\n",
        "import time\n",
        "import datetime"
      ],
      "metadata": {
        "id": "jnm1QSsptzRX"
      },
      "execution_count": 10,
      "outputs": []
    },
    {
      "cell_type": "code",
      "source": [
        "#from google.colab.patches import cv2_imshow"
      ],
      "metadata": {
        "id": "BKupoOs-5PNJ"
      },
      "execution_count": 11,
      "outputs": []
    },
    {
      "cell_type": "code",
      "source": [
        "import torch\n",
        "import torch.nn as nn\n",
        "import torch.nn.functional as F\n",
        "import torch.optim as optim"
      ],
      "metadata": {
        "id": "i2CTmtApt3NZ"
      },
      "execution_count": 12,
      "outputs": []
    },
    {
      "cell_type": "code",
      "source": [
        "import gymnasium as gym"
      ],
      "metadata": {
        "id": "_K82fRmxt6gH"
      },
      "execution_count": 13,
      "outputs": []
    },
    {
      "cell_type": "code",
      "source": [
        "from collections import namedtuple\n",
        "from collections import deque\n",
        "from itertools import count"
      ],
      "metadata": {
        "id": "t50oz42rt8zf"
      },
      "execution_count": 14,
      "outputs": []
    },
    {
      "cell_type": "code",
      "source": [
        "import glob\n",
        "import io\n",
        "import base64\n",
        "import IPython"
      ],
      "metadata": {
        "id": "4AH-3JF3sQJG"
      },
      "execution_count": 15,
      "outputs": []
    },
    {
      "cell_type": "code",
      "source": [
        "import pygame\n",
        "import moviepy"
      ],
      "metadata": {
        "id": "Pg7egKILaZYg"
      },
      "execution_count": 16,
      "outputs": []
    },
    {
      "cell_type": "code",
      "source": [
        "from typing import Optional"
      ],
      "metadata": {
        "id": "kuj6meVhaaqn"
      },
      "execution_count": 17,
      "outputs": []
    },
    {
      "cell_type": "code",
      "source": [
        "## X11 Virtual Framebuffer\n",
        "#import pyvirtualdisplay\n",
        "#display = pyvirtualdisplay.Display(visible=0, size=(1024, 768))\n",
        "#display.start()"
      ],
      "metadata": {
        "id": "Vgo880UJrtlp"
      },
      "execution_count": 18,
      "outputs": []
    },
    {
      "cell_type": "code",
      "source": [
        "%matplotlib inline\n",
        "#plt.rcParams['figure.figsize'] = [12, 8]"
      ],
      "metadata": {
        "id": "ofATU21Zu0bJ"
      },
      "execution_count": 19,
      "outputs": []
    },
    {
      "cell_type": "code",
      "source": [
        "plt.ion()"
      ],
      "metadata": {
        "colab": {
          "base_uri": "https://localhost:8080/"
        },
        "id": "_WP4ZepYu2Aw",
        "outputId": "e7e1b174-f601-4cff-dcac-39fa0474c9d9"
      },
      "execution_count": 20,
      "outputs": [
        {
          "output_type": "execute_result",
          "data": {
            "text/plain": [
              "<contextlib.ExitStack at 0x786f5d2dac20>"
            ]
          },
          "metadata": {},
          "execution_count": 20
        }
      ]
    },
    {
      "cell_type": "markdown",
      "source": [
        "### 1.3. Setup"
      ],
      "metadata": {
        "id": "VXfwMneVu5AF"
      }
    },
    {
      "cell_type": "code",
      "source": [
        "project = 'mountaincar'"
      ],
      "metadata": {
        "id": "jHcFJKcVu6ff"
      },
      "execution_count": 21,
      "outputs": []
    },
    {
      "cell_type": "code",
      "source": [
        "output_dir = project + '/output'\n",
        "checkpoint_dir = project + '/checkpoint'"
      ],
      "metadata": {
        "id": "p5rTqkuuvA7J"
      },
      "execution_count": 22,
      "outputs": []
    },
    {
      "cell_type": "code",
      "source": [
        "!mkdir -p $output_dir\n",
        "!mkdir -p $checkpoint_dir"
      ],
      "metadata": {
        "id": "zfirz_UTUqSd"
      },
      "execution_count": 23,
      "outputs": []
    },
    {
      "cell_type": "code",
      "source": [
        "if torch.cuda.is_available() :\n",
        "    device = 'cuda'\n",
        "    #device = 'cuda:0'\n",
        "else :\n",
        "    device = 'cpu'"
      ],
      "metadata": {
        "id": "HKj8YQZMvEA8"
      },
      "execution_count": 24,
      "outputs": []
    },
    {
      "cell_type": "markdown",
      "source": [
        "## 2. Sample (MountainCar)"
      ],
      "metadata": {
        "id": "xc_OMgMFvOZN"
      }
    },
    {
      "cell_type": "markdown",
      "source": [
        "### 2.1. Environment"
      ],
      "metadata": {
        "id": "LNK51b6TYqhs"
      }
    },
    {
      "cell_type": "markdown",
      "source": [
        "#### 2.1.1. Environment Setup"
      ],
      "metadata": {
        "id": "QmVFdVv_4Uke"
      }
    },
    {
      "cell_type": "code",
      "source": [
        "env = gym.make('MountainCar-v0', render_mode='rgb_array')"
      ],
      "metadata": {
        "id": "9lB_dQLj4XRs"
      },
      "execution_count": 25,
      "outputs": []
    },
    {
      "cell_type": "code",
      "source": [
        "env = gym.wrappers.RecordVideo(env, output_dir)\n",
        "#env = gym.wrappers.RecordVideo(env, output_dir, episode_trigger=(lambda ep: ep == 0 or ep == 9 or ep % 100 == 99))"
      ],
      "metadata": {
        "id": "pX1QdxvQ4ncn",
        "outputId": "0774e3c6-0407-495c-9658-cf6e2be5daea",
        "colab": {
          "base_uri": "https://localhost:8080/"
        }
      },
      "execution_count": 26,
      "outputs": [
        {
          "output_type": "stream",
          "name": "stderr",
          "text": [
            "/usr/local/lib/python3.10/dist-packages/gymnasium/wrappers/record_video.py:94: UserWarning: \u001b[33mWARN: Overwriting existing videos at /content/mountaincar/output folder (try specifying a different `video_folder` for the `RecordVideo` wrapper if this is not desired)\u001b[0m\n",
            "  logger.warn(\n"
          ]
        }
      ]
    },
    {
      "cell_type": "code",
      "source": [
        "## Action Space\n",
        "env.action_space"
      ],
      "metadata": {
        "colab": {
          "base_uri": "https://localhost:8080/"
        },
        "id": "ZfXrANZD47cl",
        "outputId": "97cb41e8-b255-467f-bbd2-a8af37c6888e"
      },
      "execution_count": 27,
      "outputs": [
        {
          "output_type": "execute_result",
          "data": {
            "text/plain": [
              "Discrete(3)"
            ]
          },
          "metadata": {},
          "execution_count": 27
        }
      ]
    },
    {
      "cell_type": "code",
      "source": [
        "## Observation Space\n",
        "env.observation_space"
      ],
      "metadata": {
        "colab": {
          "base_uri": "https://localhost:8080/"
        },
        "id": "8qwKH6SO5EPi",
        "outputId": "2c45c402-3f05-438c-d28c-834909f8a57f"
      },
      "execution_count": 28,
      "outputs": [
        {
          "output_type": "execute_result",
          "data": {
            "text/plain": [
              "Box([-1.2  -0.07], [0.6  0.07], (2,), float32)"
            ]
          },
          "metadata": {},
          "execution_count": 28
        }
      ]
    },
    {
      "cell_type": "code",
      "source": [
        "## Reward Range\n",
        "env.reward_range"
      ],
      "metadata": {
        "colab": {
          "base_uri": "https://localhost:8080/"
        },
        "id": "_NUyr1LW5HQT",
        "outputId": "f2560f91-38b4-43f2-c445-5f3b241b6963"
      },
      "execution_count": 29,
      "outputs": [
        {
          "output_type": "execute_result",
          "data": {
            "text/plain": [
              "(-inf, inf)"
            ]
          },
          "metadata": {},
          "execution_count": 29
        }
      ]
    },
    {
      "cell_type": "code",
      "source": [
        "state, info = env.reset(seed=random.randint(0, (2**24)))\n",
        "state, info"
      ],
      "metadata": {
        "id": "j-tpOVIN5X07",
        "colab": {
          "base_uri": "https://localhost:8080/"
        },
        "outputId": "eb4cb49c-8b23-4e72-d648-ef6651e52693"
      },
      "execution_count": 30,
      "outputs": [
        {
          "output_type": "execute_result",
          "data": {
            "text/plain": [
              "(array([-0.5176185,  0.       ], dtype=float32), {})"
            ]
          },
          "metadata": {},
          "execution_count": 30
        }
      ]
    },
    {
      "cell_type": "code",
      "source": [
        "img = env.render()"
      ],
      "metadata": {
        "id": "UMkNcQ0z6OLz"
      },
      "execution_count": 31,
      "outputs": []
    },
    {
      "cell_type": "code",
      "source": [
        "state_text_01 = f'position = {state[0]:.2f}\\n'\n",
        "state_text_01 += f'velocity = {state[1]:.3f}'\n",
        "state_text_02 = f'steps = 0'"
      ],
      "metadata": {
        "id": "5hHmvgiCbAUm"
      },
      "execution_count": 32,
      "outputs": []
    },
    {
      "cell_type": "code",
      "source": [
        "fig = plt.figure()\n",
        "ax = fig.add_subplot(1, 1, 1)\n",
        "plt.suptitle('Mountain Car', fontsize=16)\n",
        "plt.imshow(img)\n",
        "plt.text(0, 1.03, state_text_01, fontsize=10, transform=ax.transAxes)\n",
        "plt.text(0.82, 1.03, state_text_02, fontsize=10, transform=ax.transAxes)\n",
        "plt.show()"
      ],
      "metadata": {
        "colab": {
          "base_uri": "https://localhost:8080/",
          "height": 458
        },
        "id": "LuZKuxJUB_RF",
        "outputId": "2b0cb33e-1f25-4205-ba01-45bcdfa1eb68"
      },
      "execution_count": 33,
      "outputs": [
        {
          "output_type": "display_data",
          "data": {
            "text/plain": [
              "<Figure size 640x480 with 1 Axes>"
            ],
            "image/png": "[encoded data removed]"
          },
          "metadata": {}
        }
      ]
    },
    {
      "cell_type": "markdown",
      "source": [
        "### 2.2. Algorithm"
      ],
      "metadata": {
        "id": "7anKFDOPY0Ki"
      }
    },
    {
      "cell_type": "markdown",
      "source": [
        "#### 2.2.1. Experience Replay Memory"
      ],
      "metadata": {
        "id": "CBOzjni2v-vn"
      }
    },
    {
      "cell_type": "code",
      "source": [
        "Transition = namedtuple('Transition', ('state', 'action', 'next_state', 'reward'))"
      ],
      "metadata": {
        "id": "Sd6QEl7kviwN"
      },
      "execution_count": 34,
      "outputs": []
    },
    {
      "cell_type": "code",
      "source": [
        "class ReplayMemory(object) :\n",
        "    def __init__(self, capacity) :\n",
        "        self.memory = deque([], maxlen=capacity)\n",
        "    def push(self, *args) :\n",
        "        self.memory.append(Transition(*args))\n",
        "    def sample(self, batch_size) :\n",
        "        return random.sample(self.memory, batch_size)\n",
        "    def __len__(self) :\n",
        "        return len(self.memory)"
      ],
      "metadata": {
        "id": "xHfQDSgRwRa9"
      },
      "execution_count": 35,
      "outputs": []
    },
    {
      "cell_type": "markdown",
      "source": [
        "#### 2.2.2. Network"
      ],
      "metadata": {
        "id": "fnNKxH4yw66J"
      }
    },
    {
      "cell_type": "markdown",
      "source": [
        "##### 2.2.2.1. DQN - Multilayer Perceptron (MLP)"
      ],
      "metadata": {
        "id": "o-Pn1ds7dmU6"
      }
    },
    {
      "cell_type": "code",
      "source": [
        "class DQN_MLP(nn.Module) :\n",
        "    def __init__(self, n_observations, n_actions) :\n",
        "        super(DQN_MLP, self).__init__()\n",
        "        self.layer1 = nn.Linear(n_observations, 128)\n",
        "        self.layer2 = nn.Linear(128, 128)\n",
        "        self.layer3 = nn.Linear(128, n_actions)\n",
        "    def forward(self, x) :\n",
        "        x = F.relu(self.layer1(x))\n",
        "        x = F.relu(self.layer2(x))\n",
        "        return self.layer3(x)"
      ],
      "metadata": {
        "id": "zKP-iWUUxI_6"
      },
      "execution_count": 36,
      "outputs": []
    },
    {
      "cell_type": "markdown",
      "source": [
        "##### 2.2.2.2. DQN - Multilayer Perceptron (MLP) with Dropout Layers"
      ],
      "metadata": {
        "id": "V4BGcfjvKf2m"
      }
    },
    {
      "cell_type": "code",
      "source": [
        "class DQN_MLP_DROPOUT(nn.Module) :\n",
        "    def __init__(self, n_observations, n_actions) :\n",
        "        super(DQN_MLP_DROPOUT, self).__init__()\n",
        "        self.layer1 = nn.Linear(n_observations, 128)\n",
        "        self.dropout1 = nn.Dropout(0.1)\n",
        "        self.layer2 = nn.Linear(128, 128)\n",
        "        self.dropout2 = nn.Dropout(0.1)\n",
        "        self.layer3 = nn.Linear(128, n_actions)\n",
        "    def forward(self, x) :\n",
        "        x = F.relu(self.layer1(x))\n",
        "        x = self.dropout1(x)\n",
        "        x = F.relu(self.layer2(x))\n",
        "        x = self.dropout2(x)\n",
        "        return self.layer3(x)"
      ],
      "metadata": {
        "id": "DBqD8yFOKkT-"
      },
      "execution_count": 37,
      "outputs": []
    },
    {
      "cell_type": "markdown",
      "source": [
        "#### 2.2.3. Action Selection (Epsilon-Greedy Algorithm)"
      ],
      "metadata": {
        "id": "YEJXx4tyxY83"
      }
    },
    {
      "cell_type": "code",
      "source": [
        "def select_action(state) :\n",
        "    global steps_done\n",
        "    sample = random.random()\n",
        "    eps_threshold = EPS_END + (EPS_START - EPS_END) * math.exp(-1. * steps_done / EPS_DECAY)\n",
        "    steps_done += 1\n",
        "    if sample > eps_threshold :\n",
        "        with torch.no_grad() :\n",
        "            return policy_net(state).max(1)[1].view(1, 1), eps_threshold\n",
        "    else :\n",
        "        ## Random Action\n",
        "        return torch.tensor([[env.action_space.sample()]], device=device, dtype=torch.long), eps_threshold"
      ],
      "metadata": {
        "id": "-ojyo_-qx9gP"
      },
      "execution_count": 38,
      "outputs": []
    },
    {
      "cell_type": "markdown",
      "source": [
        "#### 2.2.4. Training Loop"
      ],
      "metadata": {
        "id": "6W2NjEG5017z"
      }
    },
    {
      "cell_type": "code",
      "source": [
        "def optimize_model() :\n",
        "    global state_action_values\n",
        "    global loss\n",
        "    if len(memory) < BATCH_SIZE :\n",
        "        return\n",
        "    transitions = memory.sample(BATCH_SIZE)\n",
        "    batch = Transition(*zip(*transitions))\n",
        "    non_final_mask = torch.tensor(tuple(map(lambda s: s is not None, batch.next_state)), device=device, dtype=torch.bool)\n",
        "    non_final_next_states = torch.cat([s for s in batch.next_state if s is not None])\n",
        "    state_batch = torch.cat(batch.state)\n",
        "    action_batch = torch.cat(batch.action)\n",
        "    reward_batch = torch.cat(batch.reward)\n",
        "    state_action_values = policy_net(state_batch).gather(1, action_batch)\n",
        "    next_state_values = torch.zeros(BATCH_SIZE, device=device)\n",
        "    with torch.no_grad() :\n",
        "        next_state_values[non_final_mask] = target_net(non_final_next_states).max(1)[0]\n",
        "    expected_state_action_values = (next_state_values * GAMMA) + reward_batch\n",
        "    criterion = nn.SmoothL1Loss()\n",
        "    loss = criterion(state_action_values, expected_state_action_values.unsqueeze(1))\n",
        "    optimizer.zero_grad()\n",
        "    loss.backward()\n",
        "    torch.nn.utils.clip_grad_value_(policy_net.parameters(), 1000)\n",
        "    optimizer.step()"
      ],
      "metadata": {
        "id": "yx4QyG0z1EdS"
      },
      "execution_count": 39,
      "outputs": []
    },
    {
      "cell_type": "markdown",
      "source": [
        "#### 2.2.5. Plot Function"
      ],
      "metadata": {
        "id": "advwHE272vBE"
      }
    },
    {
      "cell_type": "code",
      "source": [
        "def plot_rewards(realtime=False) :\n",
        "    fig = plt.figure()\n",
        "    rewards = torch.tensor(episode_rewards, dtype=torch.float)\n",
        "    steps = torch.tensor(episode_steps, dtype=torch.int)\n",
        "    if realtime :\n",
        "        plt.clf()\n",
        "        plt.suptitle('Training...')\n",
        "    else :\n",
        "        plt.suptitle('Training Result')\n",
        "    ax1 = fig.add_subplot(2, 1, 1)\n",
        "    #ax1.set_xlabel('Episode')\n",
        "    ax1.set_ylabel('Reward')\n",
        "    ax1.grid(linestyle='--')\n",
        "    ax1.tick_params('x', length=0)\n",
        "    ax1.plot(rewards.numpy())\n",
        "    if len(rewards) >= 100 :\n",
        "        bin = 100\n",
        "    else :\n",
        "        bin = len(rewards)\n",
        "    means = rewards.unfold(0, bin, 1).mean(1).view(-1)\n",
        "    means = torch.cat((torch.zeros(bin - 1) + means[0], means))\n",
        "    ax1.plot(means.numpy())\n",
        "    ax2 = fig.add_subplot(2, 1, 2, sharex=ax1)\n",
        "    ax2.set_xlabel('Episode')\n",
        "    ax2.set_ylabel('Steps')\n",
        "    ax2.grid(linestyle='--')\n",
        "    ax2.plot(steps.numpy())\n",
        "    plt.setp(ax1.get_xticklabels(), visible=False)\n",
        "    plt.subplots_adjust(hspace=0.10)\n",
        "    plt.pause(0.001)\n",
        "    if realtime :\n",
        "        IPython.display.display(plt.gcf())\n",
        "        IPython.display.clear_output(wait=True)\n",
        "    else :\n",
        "        IPython.display.display(plt.gcf())"
      ],
      "metadata": {
        "id": "35P378DP21ta"
      },
      "execution_count": 40,
      "outputs": []
    },
    {
      "cell_type": "markdown",
      "source": [
        "#### 2.2.6. Utilities"
      ],
      "metadata": {
        "id": "o7dVX7xuTzui"
      }
    },
    {
      "cell_type": "code",
      "source": [
        "def atoi(text) :\n",
        "    return int(text) if text.isdigit() else text"
      ],
      "metadata": {
        "id": "IrTtyWJBEUU-"
      },
      "execution_count": 41,
      "outputs": []
    },
    {
      "cell_type": "code",
      "source": [
        "def natural_keys(text) :\n",
        "    return [atoi(c) for c in re.split(r'(\\d+)', text)]"
      ],
      "metadata": {
        "id": "_pgepbIqEYBw"
      },
      "execution_count": 42,
      "outputs": []
    },
    {
      "cell_type": "markdown",
      "source": [
        "### 2.3. Training"
      ],
      "metadata": {
        "id": "S0SGSW97ZamC"
      }
    },
    {
      "cell_type": "markdown",
      "source": [
        "#### 2.3.1. Hyperparameters"
      ],
      "metadata": {
        "id": "dKc8hxRy6gM8"
      }
    },
    {
      "cell_type": "code",
      "source": [
        "## Q-Learning: Batch Size\n",
        "BATCH_SIZE = 128"
      ],
      "metadata": {
        "id": "v_Fnb3rA6iAr"
      },
      "execution_count": 43,
      "outputs": []
    },
    {
      "cell_type": "code",
      "source": [
        "## Q-Learning: Discount Factor\n",
        "GAMMA = 0.99"
      ],
      "metadata": {
        "id": "1wCCjSky6iDP"
      },
      "execution_count": 44,
      "outputs": []
    },
    {
      "cell_type": "code",
      "source": [
        "## Epsilon-Greedy Thresholds\n",
        "EPS_START = 0.90\n",
        "EPS_END = 0.05\n",
        "EPS_DECAY = 500"
      ],
      "metadata": {
        "id": "BI4Y8b1Z7CZy"
      },
      "execution_count": 45,
      "outputs": []
    },
    {
      "cell_type": "code",
      "source": [
        "## Target Network: Update Rate\n",
        "TAU = 0.005"
      ],
      "metadata": {
        "id": "oewULyRk7Uho"
      },
      "execution_count": 46,
      "outputs": []
    },
    {
      "cell_type": "code",
      "source": [
        "## Optimizer: Learning Rate\n",
        "LR = 1e-04"
      ],
      "metadata": {
        "id": "bNkmpQ5c7jI4"
      },
      "execution_count": 47,
      "outputs": []
    },
    {
      "cell_type": "markdown",
      "source": [
        "#### 2.3.2. Model Initialization"
      ],
      "metadata": {
        "id": "Uabw7s6V72_I"
      }
    },
    {
      "cell_type": "code",
      "source": [
        "n_actions = env.action_space.n"
      ],
      "metadata": {
        "id": "zyung6pj8C6P"
      },
      "execution_count": 48,
      "outputs": []
    },
    {
      "cell_type": "code",
      "source": [
        "#n_observations = len(state)\n",
        "n_observations = state.size"
      ],
      "metadata": {
        "id": "4Ya4mPxm8eFI"
      },
      "execution_count": 49,
      "outputs": []
    },
    {
      "cell_type": "code",
      "source": [
        "#policy_net = DQN_MLP(n_observations, n_actions).to(device)\n",
        "#target_net = DQN_MLP(n_observations, n_actions).to(device)\n",
        "policy_net = DQN_MLP_DROPOUT(n_observations, n_actions).to(device)\n",
        "target_net = DQN_MLP_DROPOUT(n_observations, n_actions).to(device)"
      ],
      "metadata": {
        "id": "zZEzXxoF8hzO"
      },
      "execution_count": 50,
      "outputs": []
    },
    {
      "cell_type": "code",
      "source": [
        "target_net.load_state_dict(policy_net.state_dict())"
      ],
      "metadata": {
        "colab": {
          "base_uri": "https://localhost:8080/"
        },
        "id": "XsuSYfko8pPj",
        "outputId": "02e149f7-23ee-4017-acb2-5d3809acd603"
      },
      "execution_count": 51,
      "outputs": [
        {
          "output_type": "execute_result",
          "data": {
            "text/plain": [
              "<All keys matched successfully>"
            ]
          },
          "metadata": {},
          "execution_count": 51
        }
      ]
    },
    {
      "cell_type": "code",
      "source": [
        "## In case of recovery\n",
        "#policy_net.load_state_dict(torch.load(checkpoint_dir + '/policy_net_final.pth'))\n",
        "#target_net.load_state_dict(torch.load(checkpoint_dir + '/target_net_final.pth'))"
      ],
      "metadata": {
        "id": "7jpOHmPGG5Dm"
      },
      "execution_count": 52,
      "outputs": []
    },
    {
      "cell_type": "code",
      "source": [
        "optimizer = optim.AdamW(policy_net.parameters(), lr=LR, amsgrad=True)"
      ],
      "metadata": {
        "id": "N86k7Zga8uXX"
      },
      "execution_count": 53,
      "outputs": []
    },
    {
      "cell_type": "code",
      "source": [
        "memory = ReplayMemory(10000)\n",
        "#memory = ReplayMemory(100000)"
      ],
      "metadata": {
        "id": "0sNVicj3xJCZ"
      },
      "execution_count": 54,
      "outputs": []
    },
    {
      "cell_type": "code",
      "source": [
        "steps_done = 0\n",
        "state_action_values = np.array(0.0)\n",
        "loss = 0.0"
      ],
      "metadata": {
        "id": "ve3QJWZJ9Tlh"
      },
      "execution_count": 55,
      "outputs": []
    },
    {
      "cell_type": "code",
      "source": [
        "episode_rewards = []\n",
        "episode_steps = []"
      ],
      "metadata": {
        "id": "6lxZthcI9g-O"
      },
      "execution_count": 56,
      "outputs": []
    },
    {
      "cell_type": "markdown",
      "source": [
        "#### 2.3.3. Training"
      ],
      "metadata": {
        "id": "fz5tgti39qZ1"
      }
    },
    {
      "cell_type": "code",
      "source": [
        "num_episodes = 2000"
      ],
      "metadata": {
        "id": "xPZfLG32viy7"
      },
      "execution_count": 57,
      "outputs": []
    },
    {
      "cell_type": "code",
      "source": [
        "num_episodes_save = 100"
      ],
      "metadata": {
        "id": "rcoKR8MOAobh"
      },
      "execution_count": 58,
      "outputs": []
    },
    {
      "cell_type": "code",
      "source": [
        "def energy(state) :\n",
        "    x = state[0]\n",
        "    v = state[1]\n",
        "    m = 1.0\n",
        "    g = 0.0025\n",
        "    h = np.sin((x - (0.5 * np.pi)) + 0.5) + 1.0\n",
        "    u = m * g * h\n",
        "    k = 0.5 * v * v\n",
        "    xmax = 0.6\n",
        "    vmax = 0.07\n",
        "    n = 1 / ((m * g * (np.sin((xmax - (0.5 * np.pi)) + 0.5) + 1.0)) + (0.5 * vmax * vmax))\n",
        "    e = n * (u + k)\n",
        "    return e"
      ],
      "metadata": {
        "id": "vnzLrUeXLOM-"
      },
      "execution_count": 59,
      "outputs": []
    },
    {
      "cell_type": "code",
      "source": [
        "for i_episode in range(num_episodes) :\n",
        "    state, info = env.reset(seed=random.randint(0, (2**24)))\n",
        "    state = torch.tensor(state, dtype=torch.float32, device=device).unsqueeze(0)\n",
        "    reward_total = 0\n",
        "    for t in count() :\n",
        "        action, eps_threshold = select_action(state)\n",
        "        observation, reward, terminated, truncated, info = env.step(action.item())\n",
        "        ################################################################################\n",
        "        ## Reward Modification\n",
        "        ################################################################################\n",
        "        ## 1. Time penalty to be -0.01\n",
        "        ## 2. Time variation of normalized mechanical energy\n",
        "        ## 3. Goal bonus\n",
        "        ##################################################\n",
        "        mod_reward = True\n",
        "        if mod_reward :\n",
        "            reward = (reward * 0.01) + (energy(observation) - energy(state.numpy()[0]))\n",
        "            if observation[0] >= 0.5 :\n",
        "                reward = reward + 1.0\n",
        "            else :\n",
        "                reward = reward\n",
        "        ################################################################################\n",
        "        ################################################################################\n",
        "        reward = torch.tensor([reward], device=device)\n",
        "        reward_total += reward\n",
        "        done = terminated or truncated\n",
        "        if terminated :\n",
        "            next_state = None\n",
        "        else :\n",
        "            next_state = torch.tensor(observation, dtype=torch.float32, device=device).unsqueeze(0)\n",
        "        memory.push(state, action, next_state, reward)\n",
        "        state = next_state\n",
        "        optimize_model()\n",
        "        target_net_state_dict = target_net.state_dict()\n",
        "        policy_net_state_dict = policy_net.state_dict()\n",
        "        for key in policy_net_state_dict :\n",
        "            target_net_state_dict[key] = policy_net_state_dict[key] * TAU + target_net_state_dict[key] * (1 - TAU)\n",
        "        target_net.load_state_dict(target_net_state_dict)\n",
        "        if done :\n",
        "            episode_rewards.append(reward_total)\n",
        "            episode_steps.append(t + 1)\n",
        "            print(f'episode: {i_episode}, steps: {(t + 1)}, reward: {reward_total[0]:.3f}, loss: {loss:.3e}, mean_q: {state_action_values.mean():.3e}')\n",
        "            if i_episode % 20 == 0 :\n",
        "                IPython.display.clear_output(wait=True)\n",
        "                plot_rewards(realtime=False)\n",
        "            break\n",
        "    if (i_episode % num_episodes_save == 0) :\n",
        "        torch.save(policy_net.state_dict(), checkpoint_dir + '/policy_net_' + str(i_episode) + '.pth')\n",
        "        torch.save(target_net.state_dict(), checkpoint_dir + '/target_net_' + str(i_episode) + '.pth')\n",
        "    if (i_episode == range(num_episodes)[-1]) :\n",
        "        torch.save(policy_net.state_dict(), checkpoint_dir + '/policy_net_final.pth')\n",
        "        torch.save(target_net.state_dict(), checkpoint_dir + '/target_net_final.pth')\n",
        "\n",
        "IPython.display.clear_output(wait=True)\n",
        "print(f'episode: {i_episode}, steps: {(t + 1)}, reward: {reward_total[0]:.3f}, loss: {loss:.3e}, mean_q: {state_action_values.mean():.3e}')\n",
        "plot_rewards()"
      ],
      "metadata": {
        "colab": {
          "base_uri": "https://localhost:8080/",
          "height": 552
        },
        "id": "CmCcyOZM95Eq",
        "outputId": "b027e2c3-5e45-4e2b-9b33-0f2f45bfe354"
      },
      "execution_count": null,
      "outputs": [
        {
          "output_type": "display_data",
          "data": {
            "text/plain": [
              "<Figure size 640x480 with 0 Axes>"
            ]
          },
          "metadata": {}
        },
        {
          "output_type": "display_data",
          "data": {
            "text/plain": [
              "<Figure size 640x480 with 2 Axes>"
            ],
            "image/png": "[encoded data removed]"
          },
          "metadata": {}
        },
        {
          "output_type": "display_data",
          "data": {
            "text/plain": [
              "<Figure size 640x480 with 0 Axes>"
            ]
          },
          "metadata": {}
        },
        {
          "output_type": "stream",
          "name": "stdout",
          "text": [
            "episode: 541, steps: 156, reward: -0.059, loss: 9.201e-04, mean_q: 2.893e-01\n"
          ]
        }
      ]
    },
    {
      "cell_type": "markdown",
      "source": [
        "#### 2.3.4. Video Output"
      ],
      "metadata": {
        "id": "oAXMOeHDERaI"
      }
    },
    {
      "cell_type": "code",
      "source": [
        "mp4list = glob.glob(output_dir + '/rl-video-episode-*.mp4')\n",
        "if len(mp4list) > 0 :\n",
        "    for mp4 in sorted(mp4list, key=natural_keys)[::(len(mp4list) - 1 if len(mp4list) >= 2 else 1)] :\n",
        "        video = io.open(mp4, 'r+b').read()\n",
        "        encoded = base64.b64encode(video)\n",
        "        IPython.display.display(IPython.display.HTML(data='''{mp4}<br>\n",
        "            <video alt=\"{mp4}\" autoplay loop controls style=\"height: 200px;\">\n",
        "            <source src=\"data:video/mp4;base64,{src}\" type=\"video/mp4\">\n",
        "            </video>'''.format(mp4=mp4, src=encoded.decode('ascii'))))"
      ],
      "metadata": {
        "id": "QBW9tzq4EUYl"
      },
      "execution_count": null,
      "outputs": []
    },
    {
      "cell_type": "markdown",
      "source": [
        "### 2.4. Play"
      ],
      "metadata": {
        "id": "--YwZcIaZ79I"
      }
    },
    {
      "cell_type": "markdown",
      "source": [
        "#### 2.4.1. Trained Model"
      ],
      "metadata": {
        "id": "7I7WQvjpGTEc"
      }
    },
    {
      "cell_type": "code",
      "source": [
        "env = gym.make('MountainCar-v0', render_mode='rgb_array')"
      ],
      "metadata": {
        "id": "yFqi8d7MOSc2"
      },
      "execution_count": null,
      "outputs": []
    },
    {
      "cell_type": "code",
      "source": [
        "env = gym.wrappers.RecordVideo(env, output_dir, name_prefix='play-video')\n",
        "#env = gym.wrappers.RecordVideo(env, output_dir, episode_trigger=(lambda ep: ep == 0 or ep == 9 or ep % 100 == 99), name_prefix='play-video')"
      ],
      "metadata": {
        "id": "_y_ltM-QPT0E"
      },
      "execution_count": null,
      "outputs": []
    },
    {
      "cell_type": "code",
      "source": [
        "n_actions = env.action_space.n"
      ],
      "metadata": {
        "id": "uGaIkQNcHXDu"
      },
      "execution_count": null,
      "outputs": []
    },
    {
      "cell_type": "code",
      "source": [
        "state, info = env.reset(seed=random.randint(0, (2**24)))"
      ],
      "metadata": {
        "id": "6WZQKzFEHe7W"
      },
      "execution_count": null,
      "outputs": []
    },
    {
      "cell_type": "code",
      "source": [
        "#n_observations = len(state)\n",
        "n_observations = state.size"
      ],
      "metadata": {
        "id": "TNsUej9-HXGh"
      },
      "execution_count": null,
      "outputs": []
    },
    {
      "cell_type": "code",
      "source": [
        "#policy_net = DQN_MLP(n_observations, n_actions).to(device)\n",
        "policy_net = DQN_MLP_DROPOUT(n_observations, n_actions).to(device)"
      ],
      "metadata": {
        "id": "qB3pnuV2LU6s"
      },
      "execution_count": null,
      "outputs": []
    },
    {
      "cell_type": "code",
      "source": [
        "pthlist = glob.glob(checkpoint_dir + '/policy_net_*.pth')\n",
        "pthfile = sorted(pthlist, key=natural_keys)[-1]\n",
        "pthfile"
      ],
      "metadata": {
        "id": "qpGExt5qM9iW"
      },
      "execution_count": null,
      "outputs": []
    },
    {
      "cell_type": "code",
      "source": [
        "policy_net.load_state_dict(torch.load(pthfile))"
      ],
      "metadata": {
        "id": "xW6nEbcRNXZu"
      },
      "execution_count": null,
      "outputs": []
    },
    {
      "cell_type": "code",
      "source": [
        "policy_net.eval()"
      ],
      "metadata": {
        "id": "DYdaCt_SNhUT"
      },
      "execution_count": null,
      "outputs": []
    },
    {
      "cell_type": "markdown",
      "source": [
        "#### 2.4.2. Play"
      ],
      "metadata": {
        "id": "50ezIK4YaFhK"
      }
    },
    {
      "cell_type": "code",
      "source": [
        "state, info = env.reset(seed=random.randint(0, (2**24)))\n",
        "observation = state\n",
        "state = torch.tensor(state, dtype=torch.float32, device=device).unsqueeze(0)\n",
        "\n",
        "steps = 0\n",
        "ims = []\n",
        "fig = plt.figure()\n",
        "ax = fig.add_subplot(1, 1, 1)\n",
        "plt.suptitle('Mountain Car', fontsize=16)\n",
        "\n",
        "## Initial Frame\n",
        "state_text_01 = f'position = {observation[0]:.2f}\\n'\n",
        "state_text_01 += f'velocity = {observation[1]:.3f}'\n",
        "state_text_02 = f'steps = {steps}'\n",
        "img = env.render()\n",
        "image = plt.imshow(img, animated=True)\n",
        "text_01 = plt.text(0, 1.03, state_text_01, fontsize=10, transform=ax.transAxes)\n",
        "text_02 = plt.text(0.82, 1.03, state_text_02, fontsize=10, transform=ax.transAxes)\n",
        "ims.append([image] + [text_01] + [text_02])\n",
        "plt.gca().texts[-1].set_visible(False)\n",
        "plt.gca().texts[-2].set_visible(False)\n",
        "\n",
        "while True :\n",
        "    print('\\r' + 'steps: ' + str(steps), end='')\n",
        "    action = policy_net(state).max(1)[1].view(1, 1)\n",
        "    observation, reward, terminated, truncated, info = env.step(action.item())\n",
        "    steps += 1\n",
        "    state_text_01 = f'position = {observation[0]:.2f}\\n'\n",
        "    state_text_01 += f'velocity = {observation[1]:.3f}'\n",
        "    state_text_02 = f'steps = {steps}'\n",
        "    img = env.render()\n",
        "    image = plt.imshow(img, animated=True)\n",
        "    text_01 = plt.text(0, 1.03, state_text_01, fontsize=10, transform=ax.transAxes)\n",
        "    text_02 = plt.text(0.82, 1.03, state_text_02, fontsize=10, transform=ax.transAxes)\n",
        "    ims.append([image] + [text_01] + [text_02])\n",
        "    plt.gca().texts[-1].set_visible(False)\n",
        "    plt.gca().texts[-2].set_visible(False)\n",
        "    done = terminated or truncated\n",
        "    if terminated :\n",
        "        next_state = None\n",
        "    else :\n",
        "        next_state = torch.tensor(observation, dtype=torch.float32, device=device).unsqueeze(0)\n",
        "    state = next_state\n",
        "    if done :\n",
        "        plt.gca().texts[-1].set_visible(True)\n",
        "        plt.gca().texts[-2].set_visible(True)\n",
        "        break"
      ],
      "metadata": {
        "id": "yZEpzKYVNonN"
      },
      "execution_count": null,
      "outputs": []
    },
    {
      "cell_type": "markdown",
      "source": [
        "#### 2.4.3. Video Output"
      ],
      "metadata": {
        "id": "TE6GhkAsaLOe"
      }
    },
    {
      "cell_type": "code",
      "source": [
        "mp4list = glob.glob(output_dir + '/play-video-episode-*.mp4')\n",
        "if len(mp4list) > 0 :\n",
        "    for mp4 in sorted(mp4list, key=natural_keys)[::(len(mp4list) - 1 if len(mp4list) >= 2 else 1)] :\n",
        "        video = io.open(mp4, 'r+b').read()\n",
        "        encoded = base64.b64encode(video)\n",
        "        IPython.display.display(IPython.display.HTML(data='''{mp4}<br>\n",
        "            <video alt=\"{mp4}\" autoplay loop controls style=\"height: 200px;\">\n",
        "            <source src=\"data:video/mp4;base64,{src}\" type=\"video/mp4\">\n",
        "            </video>'''.format(mp4=mp4, src=encoded.decode('ascii'))))"
      ],
      "metadata": {
        "id": "p2OSBkh3QsHw"
      },
      "execution_count": null,
      "outputs": []
    },
    {
      "cell_type": "markdown",
      "source": [
        "#### 2.4.4. GIF Output"
      ],
      "metadata": {
        "id": "jp_zU7kdyZNR"
      }
    },
    {
      "cell_type": "code",
      "source": [
        "gif = output_dir + '/play-video-episode-0.gif'"
      ],
      "metadata": {
        "id": "ZJZzXe-tV1_f"
      },
      "execution_count": null,
      "outputs": []
    },
    {
      "cell_type": "code",
      "source": [
        "#fig.set_size_inches(6.4, 4.8, forward=True)"
      ],
      "metadata": {
        "id": "925h6tW7xolv"
      },
      "execution_count": null,
      "outputs": []
    },
    {
      "cell_type": "code",
      "source": [
        "ani = matplotlib.animation.ArtistAnimation(fig, ims, interval=100, blit=True, repeat_delay=1000)\n",
        "ani.save(gif, writer=\"pillow\")"
      ],
      "metadata": {
        "id": "2DF4qorIxooH"
      },
      "execution_count": null,
      "outputs": []
    },
    {
      "cell_type": "code",
      "source": [
        "IPython.display.Image(gif, format='gif')"
      ],
      "metadata": {
        "id": "3qfAxdABxuSB"
      },
      "execution_count": null,
      "outputs": []
    }
  ],
  "metadata": {
    "colab": {
      "provenance": []
    },
    "kernelspec": {
      "display_name": "Python 3",
      "name": "python3"
    },
    "language_info": {
      "name": "python"
    },
    "gpuClass": "standard"
  },
  "nbformat": 4,
  "nbformat_minor": 0
}